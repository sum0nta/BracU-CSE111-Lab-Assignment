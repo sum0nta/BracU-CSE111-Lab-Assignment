{
 "cells": [
  {
   "cell_type": "code",
   "execution_count": 35,
   "metadata": {},
   "outputs": [
    {
     "name": "stdout",
     "output_type": "stream",
     "text": [
      "HOUSE\n"
     ]
    }
   ],
   "source": [
    "#String(1)\n",
    "\n",
    "def convertUpper(str1):\n",
    "    str2 = \"\"\n",
    "    for i in str1:\n",
    "        if ord('a') <= ord(i) <= ord(\"z\"):\n",
    "            str2 += chr(ord(i) - 32)\n",
    "        else:\n",
    "            str2 += i\n",
    "    return str2 \n",
    "def convertLower(str1):\n",
    "    str2 = \"\"\n",
    "    for i in str1:\n",
    "        if ord('A') <= ord(i) <= ord(\"Z\"):\n",
    "            str2 += chr(ord(i) + 32)\n",
    "        else:\n",
    "            str2 += i\n",
    "    return str2 \n",
    "str1 = input()\n",
    "\n",
    "lower = 0\n",
    "upper = 0\n",
    "\n",
    "for i in str1:\n",
    "    if ord('a') <= ord(i) <= ord('z'):\n",
    "        lower += 1\n",
    "    elif ord('A') <= ord(i) <= ord('Z'):\n",
    "        upper += 1\n",
    "if upper > lower:\n",
    "    print(convertUpper(str1))\n",
    "else:\n",
    "    print(convertLower(str1))"
   ]
  },
  {
   "cell_type": "code",
   "execution_count": 30,
   "metadata": {},
   "outputs": [
    {
     "name": "stdout",
     "output_type": "stream",
     "text": [
      "WORD\n"
     ]
    }
   ],
   "source": [
    "#String(2)\n",
    "\n",
    "str1 = input()\n",
    "\n",
    "letter = 0\n",
    "num = 0\n",
    "\n",
    "for i in str1:\n",
    "    if ord(\"0\") <= ord(i) <= ord(\"9\"):\n",
    "        num += 1\n",
    "    elif ord('a') <= ord(i) <= ord('z'):\n",
    "        letter += 1\n",
    "    elif ord('A') <= ord(i) <= ord('Z'):\n",
    "        letter += 1\n",
    "\n",
    "if letter == 0:\n",
    "    print(\"NUMBERS\")\n",
    "elif num == 0:\n",
    "    print(\"WORD\")\n",
    "else:\n",
    "    print(\"MIXED\")"
   ]
  },
  {
   "cell_type": "code",
   "execution_count": 42,
   "metadata": {},
   "outputs": [
    {
     "name": "stdout",
     "output_type": "stream",
     "text": [
      "BLANK\n"
     ]
    }
   ],
   "source": [
    "#String(3)\n",
    "\n",
    "str1 = input()\n",
    "count = 0\n",
    "for i in range(len(str1)):\n",
    "    if (ord(\"A\") <= ord(str1[i]) <= ord(\"Z\")) and count == 0:\n",
    "        start = i\n",
    "        count += 1\n",
    "    elif (ord(\"A\") <= ord(str1[i]) <= ord(\"Z\")) and count > 0:\n",
    "        end = i\n",
    "        break\n",
    "\n",
    "if str1[start+1:end] == '':\n",
    "    print(\"BLANK\")\n",
    "else:\n",
    "    print(str1[start+1:end])"
   ]
  },
  {
   "cell_type": "code",
   "execution_count": 45,
   "metadata": {},
   "outputs": [
    {
     "name": "stdout",
     "output_type": "stream",
     "text": [
      "hrrhr\n"
     ]
    }
   ],
   "source": [
    "#String(4)\n",
    "\n",
    "str1 = input().split(\",\")\n",
    "\n",
    "str2 = \"\"\n",
    "\n",
    "for i in str1[0]:\n",
    "    if i in str1[1]:\n",
    "        str2 += i\n",
    "for i in str1[1]:\n",
    "    if i in str1[0]:\n",
    "        str2 += i\n",
    "\n",
    "if str2 == '':\n",
    "    print(\"Nothing in common.\")\n",
    "else:\n",
    "    print(str2)"
   ]
  },
  {
   "cell_type": "code",
   "execution_count": 56,
   "metadata": {},
   "outputs": [
    {
     "name": "stdout",
     "output_type": "stream",
     "text": [
      "Uppercase character missing, Digit missing\n"
     ]
    }
   ],
   "source": [
    "#String(5)\n",
    "\n",
    "str1 = input()\n",
    "upper = 0\n",
    "lower = 0\n",
    "digit = 0\n",
    "special = 0\n",
    "str2 = ''\n",
    "\n",
    "for i in str1:\n",
    "    if ord(\"0\") <= ord(i) <= ord(\"9\"):\n",
    "        digit += 1\n",
    "    elif ord('a') <= ord(i) <= ord('z'):\n",
    "        lower += 1\n",
    "    elif ord('A') <= ord(i) <= ord('Z'):\n",
    "        upper += 1\n",
    "    else:\n",
    "        special += 1\n",
    "\n",
    "if lower == 0:\n",
    "    str2 += \"Lowercase character missing, \"\n",
    "if upper == 0:\n",
    "    str2 += \"Uppercase character missing, \"\n",
    "if digit == 0:\n",
    "    str2 += \"Digit missing, \"\n",
    "if special == 0:\n",
    "    str2 += \"Special character missing, \"\n",
    "\n",
    "if str2[:-2] == \"\":\n",
    "    print(\"OK\")\n",
    "else:\n",
    "    print(str2[:-2])"
   ]
  },
  {
   "cell_type": "code",
   "execution_count": 81,
   "metadata": {},
   "outputs": [
    {
     "name": "stdout",
     "output_type": "stream",
     "text": [
      "10 - 2 times\n",
      "20 - 2 times\n",
      "30 - 1 times\n",
      "50 - 1 times\n",
      "90 - 1 times\n"
     ]
    }
   ],
   "source": [
    "#List(1)\n",
    "\n",
    "l1 = []\n",
    "unique_checker = []\n",
    "str2 = ''\n",
    "\n",
    "while True:\n",
    "    str1 = input()\n",
    "    if str1 == \"STOP\":\n",
    "        break\n",
    "    else:\n",
    "        l1.append(str1)\n",
    "\n",
    "for i in l1:\n",
    "    count = 0\n",
    "    if i not in unique_checker:\n",
    "        for j in l1:\n",
    "            if i == j:\n",
    "                count += 1\n",
    "        unique_checker.append(i)\n",
    "        \n",
    "        str2 += f\"{i} - {count} times\\n\"\n",
    "\n",
    "print(str2[:-1])"
   ]
  },
  {
   "cell_type": "code",
   "execution_count": 15,
   "metadata": {},
   "outputs": [
    {
     "name": "stdout",
     "output_type": "stream",
     "text": [
      "33\n",
      "[10, 11, 12]\n"
     ]
    }
   ],
   "source": [
    "#List(2)\n",
    "def total(l1):\n",
    "    summation = 0\n",
    "    for i in l1:\n",
    "        summation += i\n",
    "    return summation\n",
    "\n",
    "elements = int(input())\n",
    "l1 = []\n",
    "\n",
    "for i in range(elements):\n",
    "    str1 = input().split()\n",
    "    str1 = [int(i) for i in str1]\n",
    "    l1.append(str1)\n",
    "maxi = -99999999999999999\n",
    "l2 = []\n",
    "\n",
    "for i in l1:\n",
    "    if total(i) > maxi:\n",
    "        maxi = total(i)\n",
    "        l2 = i\n",
    "\n",
    "print(maxi)\n",
    "print(l2)"
   ]
  },
  {
   "cell_type": "code",
   "execution_count": 16,
   "metadata": {},
   "outputs": [
    {
     "name": "stdout",
     "output_type": "stream",
     "text": [
      "UB Jumper\n",
      "UB Jumper\n",
      "Not UB Jumper\n"
     ]
    }
   ],
   "source": [
    "#List(3)\n",
    "\n",
    "str2 = \"\"\n",
    "while True:\n",
    "    str1 = input()\n",
    "    if str1 != \"STOP\":\n",
    "        str1 = str1.split()\n",
    "    else:\n",
    "        break\n",
    "    l1 = [int(i) for i in str1]\n",
    "    l2 = []\n",
    "    flag = True\n",
    "\n",
    "    for i in range(len(l1)-1):\n",
    "        l2.append(abs(l1[i] - l1[i+1]))\n",
    "\n",
    "    for i in range(1,len(l1)):\n",
    "        if i not in l2:\n",
    "            flag = False\n",
    "            break\n",
    "\n",
    "    if flag == True:\n",
    "        str2 += f\"UB Jumper\\n\"\n",
    "    else:\n",
    "        str2 += f\"Not UB Jumper\\n\"\n",
    "\n",
    "print(str2[:-1])"
   ]
  },
  {
   "cell_type": "code",
   "execution_count": 19,
   "metadata": {},
   "outputs": [
    {
     "name": "stdout",
     "output_type": "stream",
     "text": [
      "2\n"
     ]
    }
   ],
   "source": [
    "#List(4)\n",
    "\n",
    "str1 = [int(i) for i in input().split()]\n",
    "times_participated = [int(i) for i in input().split()]\n",
    "eligible_players = 0\n",
    "for i in times_participated:\n",
    "    if i + str1[1] <= 5:\n",
    "        eligible_players += 1\n",
    "eligible_teams = eligible_players // 3\n",
    "print(eligible_teams)"
   ]
  },
  {
   "cell_type": "code",
   "execution_count": 25,
   "metadata": {},
   "outputs": [
    {
     "name": "stdout",
     "output_type": "stream",
     "text": [
      "{'a': 400, 'b': 300, 'c': 200, 'd': 700, 'e': 200}\n",
      "Values (200, 300, 400, 700)\n"
     ]
    }
   ],
   "source": [
    "#Dictionary(1)\n",
    "\n",
    "str1 = input().split(\", \")\n",
    "str2 = input().split(\", \")\n",
    "\n",
    "d1,d2,l2 = {}, {}, []\n",
    "\n",
    "\n",
    "for i in range(len(str1)):\n",
    "    l1 = str1[i].split(\":\")\n",
    "    d1[l1[0]] = int(l1[1])\n",
    "\n",
    "for i in range(len(str2)):\n",
    "    l1 = str2[i].split(\":\")\n",
    "    d2[l1[0]] = int(l1[1])\n",
    "\n",
    "for i in d1:\n",
    "    if i in d2:\n",
    "        d1[i] += d2[i]\n",
    "\n",
    "for i in d2:\n",
    "    if i not in d1:\n",
    "        d1[i] = d2[i]\n",
    "\n",
    "for v in d1.values():\n",
    "    if v not in l2:\n",
    "        l2.append(v)\n",
    "\n",
    "for i in range(len(l2)-1):\n",
    "    for j in range(len(l2)-i-1):\n",
    "        if l2[j] > l2[j+1]:\n",
    "            l2[j],l2[j+1] = l2[j+1], l2[j]\n",
    "\n",
    "print(d1)\n",
    "print(\"Values:\",tuple(l2))"
   ]
  },
  {
   "cell_type": "code",
   "execution_count": 21,
   "metadata": {},
   "outputs": [
    {
     "name": "stdout",
     "output_type": "stream",
     "text": [
      "10 - 2 times\n",
      "20 - 2 times\n",
      "30 - 1 times\n",
      "50 - 1 times\n",
      "90 - 1 times\n"
     ]
    }
   ],
   "source": [
    "#Dictionary(2)\n",
    "\n",
    "d1 = {}\n",
    "while True:\n",
    "    str1 = input()\n",
    "    if str1 != \"STOP\":\n",
    "        if str1 not in d1:\n",
    "            d1[str1] = 1\n",
    "        else:\n",
    "            d1[str1] += 1\n",
    "    else:\n",
    "        break\n",
    "\n",
    "for key,values in d1.items():\n",
    "    print(f\"{key} - {values} times\")"
   ]
  },
  {
   "cell_type": "code",
   "execution_count": 35,
   "metadata": {},
   "outputs": [
    {
     "name": "stdout",
     "output_type": "stream",
     "text": [
      "{'value1': ['key1', 'key3'], 'value2': ['key2']}\n"
     ]
    }
   ],
   "source": [
    "#Dictionary(3)\n",
    "\n",
    "str1 = input().split(\", \")\n",
    "\n",
    "d1 = {}\n",
    "for i in str1:\n",
    "    l1 = i.split(\" : \")\n",
    "    \n",
    "    if l1[1] not in d1:\n",
    "        d1[l1[1]] = [l1[0]]\n",
    "    else:\n",
    "        d1[l1[1]].append(l1[0])\n",
    "\n",
    "print(d1)"
   ]
  },
  {
   "cell_type": "code",
   "execution_count": 17,
   "metadata": {},
   "outputs": [
    {
     "name": "stdout",
     "output_type": "stream",
     "text": [
      "4433555555666110966677755531111\n"
     ]
    }
   ],
   "source": [
    "#Dictionary(4)\n",
    "\n",
    "d1 = {\".,?!:\":1,\n",
    "    \"ABC\":2,\n",
    "    \"DEF\":3,\n",
    "    \"GHI\":4,\n",
    "    \"JKL\":5,\n",
    "    \"MNO\":6,\n",
    "    \"PQRS\":7,\n",
    "    \"TUV\":8,\n",
    "    \"WXYZ\":9,\n",
    "    \" \":0}\n",
    "\n",
    "str1 = input().upper()\n",
    "str2 = ''\n",
    "for i in str1:\n",
    "    for key,values in d1.items():\n",
    "        if i in key:\n",
    "            for j in range(len(key)):\n",
    "                if key[j] == i:\n",
    "                    str2 += str((j+1) * str(values))\n",
    "\n",
    "print(str2)\n"
   ]
  },
  {
   "cell_type": "code",
   "execution_count": 1,
   "metadata": {},
   "outputs": [
    {
     "name": "stdout",
     "output_type": "stream",
     "text": [
      "Score is 20.78. You are Normal\n"
     ]
    }
   ],
   "source": [
    "#Function(1)\n",
    "\n",
    "def bmiCalculator(height,weight):\n",
    "    height /= 100\n",
    "    bmi = weight / (height ** 2)\n",
    "    bmi = round(bmi,2)\n",
    "    if bmi > 30:\n",
    "        print(f\"Score is {bmi}. You are Obese\")\n",
    "    elif bmi >= 25:\n",
    "        print(f\"Score is {bmi}. You are Overweight\")\n",
    "    elif bmi >= 18.5:\n",
    "        print(f\"Score is {bmi}. You are Normal\")\n",
    "    elif bmi < 18.5:\n",
    "        print(f\"Score is {bmi}. You are Underweight\")\n",
    "\n",
    "bmiCalculator(152,48)"
   ]
  },
  {
   "cell_type": "code",
   "execution_count": 5,
   "metadata": {},
   "outputs": [
    {
     "name": "stdout",
     "output_type": "stream",
     "text": [
      "45\n"
     ]
    }
   ],
   "source": [
    "#Function(2)\n",
    "\n",
    "def numberCalculator(mini,maxi,div):\n",
    "    l1 = []\n",
    "    total = 0\n",
    "    for i in range(mini,maxi):\n",
    "        if i % div == 0:\n",
    "            l1.append(i)\n",
    "    for j in l1:\n",
    "        total += j\n",
    "    return total\n",
    "\n",
    "print(numberCalculator(3,16,3))"
   ]
  },
  {
   "cell_type": "code",
   "execution_count": 3,
   "metadata": {},
   "outputs": [
    {
     "name": "stdout",
     "output_type": "stream",
     "text": [
      "223.6\n"
     ]
    }
   ],
   "source": [
    "#Function(3)\n",
    "\n",
    "def FoodPanda(order,location = \"Mohakhali\"):\n",
    "    total = 0\n",
    "    if order == \"BBQ Chicken Cheese Burger\":\n",
    "        total += 250\n",
    "    elif order == \"Beef Burger\":\n",
    "        total += 170\n",
    "    elif order == \"Naga Drums\":\n",
    "        total += 200\n",
    "    total *= 1.08\n",
    "    if location == \"Mohakhali\":\n",
    "        total += 40\n",
    "    else:\n",
    "        total += 60\n",
    "    return round(total,2)\n",
    "\n",
    "print(FoodPanda(\"Beef Burger\"))"
   ]
  },
  {
   "cell_type": "code",
   "execution_count": 15,
   "metadata": {},
   "outputs": [
    {
     "name": "stdout",
     "output_type": "stream",
     "text": [
      "Unchanged: alicesheba.xyz\n"
     ]
    }
   ],
   "source": [
    "#Function(4)\n",
    "\n",
    "def replace_domain(email,new,old=''):\n",
    "    email = email.split(\"@\")\n",
    "    new_email = email[0] + new\n",
    "    if email[1] != new:\n",
    "        return f\"Changed: {new_email}\"\n",
    "    else:\n",
    "        return f\"Unchanged: {new_email}\"\n",
    "\n",
    "print(replace_domain('alice@sheba.xyz', 'sheba.xyz'))"
   ]
  },
  {
   "cell_type": "code",
   "execution_count": 9,
   "metadata": {},
   "outputs": [
    {
     "name": "stdout",
     "output_type": "stream",
     "text": [
      "Not a palindrome\n"
     ]
    }
   ],
   "source": [
    "#Function(5)\n",
    "\n",
    "def palindromChecker(str1):\n",
    "    str2 = ''\n",
    "    for i in str1:\n",
    "        if i != \" \":\n",
    "            str2 += i\n",
    "    if str2 == str2[::-1]:\n",
    "        return \"Palindrome\"\n",
    "    else:\n",
    "        return \"Not a palindrome\"\n",
    "\n",
    "print(palindromChecker(\"hello\"))"
   ]
  },
  {
   "cell_type": "code",
   "execution_count": 11,
   "metadata": {},
   "outputs": [
    {
     "name": "stdout",
     "output_type": "stream",
     "text": [
      "My favourite animal is a dog. A dog has sharp teeth so that it can eat flesh very easily. Do you know my pet dog's name? I love my pet very much.\n"
     ]
    }
   ],
   "source": [
    "#Function(6)\n",
    "def lowerChecker(str1):\n",
    "    if ord('a') <= ord(str1) <= ord('z'):\n",
    "        return True\n",
    "    else:\n",
    "        return False\n",
    "def upperCase(str1):\n",
    "    str2 = ''\n",
    "    if ord('a') <= ord(str1) <= ord('z'):\n",
    "        str2 = chr(ord(str1) - 32)\n",
    "    else:\n",
    "        str2 = str1\n",
    "    return str2\n",
    "\n",
    "def fixCapitalization(str1):\n",
    "    str2 = ''\n",
    "    marks = '.!?'\n",
    "    i_marks = ' .!?'\n",
    "    for i in range(len(str1)):\n",
    "        if i == 0:\n",
    "            if lowerChecker(str1[i]) == True:\n",
    "                str2 += upperCase(str1[i])\n",
    "            else:\n",
    "                str2 += str1[i]\n",
    "        elif lowerChecker(str1[i]) == True and str1[i-1] == ' ' and str1[i-2] in marks:\n",
    "            str2 += upperCase(str1[i])\n",
    "        elif str1[i] == 'i' and str1[i-1] in i_marks and str1[i+1] in i_marks:\n",
    "            str2 += 'I'\n",
    "        else:\n",
    "            str2 += str1[i]\n",
    "    return str2\n",
    "\n",
    "\n",
    "print(fixCapitalization(\"my favourite animal is a dog. a dog has sharp teeth so that it can eat flesh very easily. do you know my pet dog's name? i love my pet very much.\"))"
   ]
  }
 ],
 "metadata": {
  "kernelspec": {
   "display_name": "Python 3.10.5 64-bit",
   "language": "python",
   "name": "python3"
  },
  "language_info": {
   "codemirror_mode": {
    "name": "ipython",
    "version": 3
   },
   "file_extension": ".py",
   "mimetype": "text/x-python",
   "name": "python",
   "nbconvert_exporter": "python",
   "pygments_lexer": "ipython3",
   "version": "3.10.5"
  },
  "orig_nbformat": 4,
  "vscode": {
   "interpreter": {
    "hash": "18c7192e6171d4d6c625c2d9481f295daeef27a536cb9f371eb8bc23c4bce28d"
   }
  }
 },
 "nbformat": 4,
 "nbformat_minor": 2
}
