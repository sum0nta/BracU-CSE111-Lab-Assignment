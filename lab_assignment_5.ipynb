{
 "cells": [
  {
   "cell_type": "code",
   "execution_count": 2,
   "metadata": {},
   "outputs": [
    {
     "name": "stdout",
     "output_type": "stream",
     "text": [
      "Total marks: 100\n"
     ]
    }
   ],
   "source": [
    "#Task1\n",
    "class Marks:\n",
    "    def __init__(self,mark):\n",
    "        self.mark = mark\n",
    "    def __add__(self,obj1):\n",
    "        return Marks(self.mark + obj1.mark)\n",
    "Q1 = Marks(int(input(\"Quiz 1 (out of 10): \")))\n",
    "Q2 = Marks(int(input(\"Quiz 2 (out of 10): \")))\n",
    "Lab = Marks(int(input(\"Lab (out of 30): \")))\n",
    "Mid = Marks(int(input(\"Mid (out of 20): \")))\n",
    "Final = Marks(int(input(\"Final (out of 30): \")))\n",
    "total = Q1 + Q2 + Lab + Mid + Final\n",
    "print(\"Total marks: {}\".format(total.mark))"
   ]
  },
  {
   "cell_type": "code",
   "execution_count": 2,
   "metadata": {},
   "outputs": [
    {
     "name": "stdout",
     "output_type": "stream",
     "text": [
      "====================\n",
      "Name: Saad Abdullah\n",
      "Department: CSE\n",
      "List of courses\n",
      "====================================\n",
      "CSE 110 Programming Language I\n",
      "CSE 111 Programming Language-II\n",
      "====================================\n",
      "====================\n",
      "Name: Mumit Khan\n",
      "Department: CSE\n",
      "List of courses\n",
      "====================================\n",
      "CSE 220 Data Structures\n",
      "CSE 221 Algorithms\n",
      "CCSE 230 Discrete Mathematics\n",
      "====================================\n",
      "====================\n",
      "Name: Sadia Kazi\n",
      "Department: CSE\n",
      "List of courses\n",
      "====================================\n",
      "CSE 310 Object Oriented Programming\n",
      "CSE 320 Data Communications\n",
      "CSE 340 Computer Architecture\n",
      "====================================\n"
     ]
    }
   ],
   "source": [
    "#Task2\n",
    "\n",
    "class Teacher:\n",
    "    def __init__(self,name,dept):\n",
    "        self.__name, self.__dept, self.__course = name, dept, [] \n",
    "    def addCourse(self,obj1):\n",
    "        self.__course.append(obj1.course)\n",
    "    def printDetail(self):\n",
    "        print(\"=\"*20)\n",
    "        print(f\"Name: {self.__name}\\nDepartment: {self.__dept}\")\n",
    "        print(\"List of courses\")\n",
    "        print(\"====================================\")\n",
    "        for i in self.__course:\n",
    "            print(i)\n",
    "        print(\"====================================\")\n",
    "class Course:\n",
    "    def __init__(self,course):\n",
    "        self.course = course\n",
    "       \n",
    "t1 = Teacher(\"Saad Abdullah\", \"CSE\")\n",
    "t2 = Teacher(\"Mumit Khan\", \"CSE\")\n",
    "t3 = Teacher(\"Sadia Kazi\", \"CSE\")                          \n",
    "c1 = Course(\"CSE 110 Programming Language I\")                           \n",
    "c2 = Course(\"CSE 111 Programming Language-II\")                           \n",
    "c3 = Course(\"CSE 220 Data Structures\")                           \n",
    "c4 = Course(\"CSE 221 Algorithms\")                           \n",
    "c5 = Course(\"CCSE 230 Discrete Mathematics\")                           \n",
    "c6 = Course(\"CSE 310 Object Oriented Programming\")                           \n",
    "c7 = Course(\"CSE 320 Data Communications\")                          \n",
    "c8 = Course(\"CSE 340 Computer Architecture\") \n",
    "t1.addCourse(c1)\n",
    "t1.addCourse(c2)\n",
    "t2.addCourse(c3)\n",
    "t2.addCourse(c4)\n",
    "t2.addCourse(c5)\n",
    "t3.addCourse(c6)\n",
    "t3.addCourse(c7)\n",
    "t3.addCourse(c8)\n",
    "t1.printDetail()\n",
    "t2.printDetail()\n",
    "t3.printDetail()\n"
   ]
  },
  {
   "cell_type": "code",
   "execution_count": 22,
   "metadata": {},
   "outputs": [
    {
     "name": "stdout",
     "output_type": "stream",
     "text": [
      "=====================\n",
      "Team: Bangladesh\n",
      "List of players:\n",
      "['Mashrafi', 'Tamim']\n",
      "=====================\n",
      "=====================\n",
      "Team: Australia\n",
      "List of players:\n",
      "['Ponting', 'Lee']\n",
      "=====================\n"
     ]
    }
   ],
   "source": [
    "#Task3\n",
    "class Team:\n",
    "    def __init__(self,name= None):\n",
    "        self.__name, self.__player = name, []\n",
    "    def setName(self,name):\n",
    "        self.__name = name\n",
    "    def addPlayer(self,obj1):\n",
    "        self.__player.append(obj1.pName)\n",
    "    def printDetail(self):\n",
    "        print(\"=====================\")\n",
    "        print(f\"Team: {self.__name}\")\n",
    "        print(f\"List of players:\\n{self.__player}\")\n",
    "        print(\"=====================\")\n",
    "class Player:\n",
    "    def __init__(self,pName):\n",
    "        self.pName = pName\n",
    "b = Team()\n",
    "b.setName('Bangladesh')\n",
    "mashrafi = Player(\"Mashrafi\")\n",
    "b.addPlayer(mashrafi)\n",
    "tamim = Player(\"Tamim\")\n",
    "b.addPlayer(tamim)\n",
    "b.printDetail()\n",
    "a = Team(\"Australia\")\n",
    "ponting = Player(\"Ponting\")\n",
    "a.addPlayer(ponting)\n",
    "lee = Player(\"Lee\")\n",
    "a.addPlayer(lee)\n",
    "a.printDetail()\n"
   ]
  },
  {
   "cell_type": "code",
   "execution_count": 17,
   "metadata": {},
   "outputs": [
    {
     "name": "stdout",
     "output_type": "stream",
     "text": [
      "Color formed: Orange\n"
     ]
    }
   ],
   "source": [
    "#Task4\n",
    "\n",
    "class Color:\n",
    "    def __init__(self,color):\n",
    "        self.clr = color\n",
    "    def __add__(self,obj1):\n",
    "        l1 = [self.clr,obj1.clr]\n",
    "        if 'yellow' in l1 and 'red' in l1:\n",
    "            return Color(\"Orange\")\n",
    "        elif 'yellow' in l1 and 'blue'in l1:\n",
    "            return Color(\"Green\")\n",
    "        elif 'red' in l1 and 'blue'in l1:\n",
    "            return Color(\"Violet\")\n",
    "\n",
    "C1 = Color(input(\"First Color: \").lower())\n",
    "C2 = Color(input(\"Second Color: \").lower())\n",
    "C3 = C1 + C2\n",
    "print(\"Color formed:\", C3.clr)"
   ]
  },
  {
   "cell_type": "code",
   "execution_count": 1,
   "metadata": {},
   "outputs": [
    {
     "name": "stdout",
     "output_type": "stream",
     "text": [
      "First circle radius: 4\n",
      "First circle area: 50.26548245743669\n",
      "Second circle radius: 5\n",
      "Second circle area: 78.53981633974483\n",
      "Third circle radius: 9\n",
      "Third circle area: 254.46900494077323\n"
     ]
    }
   ],
   "source": [
    "#Task5\n",
    "\n",
    "from math import pi\n",
    "class Circle:\n",
    "    def __init__(self,radius):\n",
    "        self.__radius = radius\n",
    "    def getRadius(self):\n",
    "        return self.__radius\n",
    "    def area(self):\n",
    "        return pi * (self.__radius**2)\n",
    "    def __add__(self,obj1):\n",
    "        return Circle(self.getRadius()+obj1.getRadius())\n",
    "c1 = Circle(4)\n",
    "print(\"First circle radius:\" , c1.getRadius())\n",
    "print(\"First circle area:\" ,c1.area())\n",
    "\n",
    "c2 = Circle(5)\n",
    "print(\"Second circle radius:\" ,c2.getRadius())\n",
    "print(\"Second circle area:\" ,c2.area())\n",
    "\n",
    "c3 = c1 + c2 \n",
    "print(\"Third circle radius:\" ,c3.getRadius())\n",
    "print(\"Third circle area:\" ,c3.area())"
   ]
  },
  {
   "cell_type": "code",
   "execution_count": 24,
   "metadata": {},
   "outputs": [
    {
     "name": "stdout",
     "output_type": "stream",
     "text": [
      "First Triangle Base: 10\n",
      "First Triangle Height: 5\n",
      "First Triangle area: 25.0\n",
      "Second Triangle Base: 5\n",
      "Second Triangle Height: 3\n",
      "Second Triangle area: 7.5\n",
      "Third Triangle Base: 5\n",
      "Third Triangle Height: 2\n",
      "Third Triangle area: 5.0\n"
     ]
    }
   ],
   "source": [
    "#Task6\n",
    "class Triangle:\n",
    "    def __init__(self,base,height):\n",
    "        self.__base = base\n",
    "        self.__height = height\n",
    "    def getBase(self):\n",
    "        return self.__base\n",
    "    def getHeight(self):\n",
    "        return self.__height\n",
    "    def setBase(self,base):\n",
    "        self.__base = base\n",
    "    def setHeight(self,height):\n",
    "        self.__height = height\n",
    "    def area(self):\n",
    "        return self.__base * self.__height * 0.5\n",
    "    def __sub__(self,obj1):\n",
    "        return Triangle(self.__base - obj1.__base,self.__height - obj1.__height)\n",
    "t1 = Triangle(10, 5)\n",
    "print(\"First Triangle Base:\" , t1.getBase())\n",
    "print(\"First Triangle Height:\" , t1.getHeight())\n",
    "print(\"First Triangle area:\" ,t1.area())\n",
    "\n",
    "t2 = Triangle(5, 3)\n",
    "print(\"Second Triangle Base:\" , t2.getBase())\n",
    "print(\"Second Triangle Height:\" , t2.getHeight())\n",
    "print(\"Second Triangle area:\" ,t2.area())\n",
    "\n",
    "t3 = t1 - t2 \n",
    "print(\"Third Triangle Base:\" , t3.getBase())\n",
    "print(\"Third Triangle Height:\" , t3.getHeight())\n",
    "print(\"Third Triangle area:\" ,t3.area()) \n"
   ]
  },
  {
   "cell_type": "code",
   "execution_count": 14,
   "metadata": {},
   "outputs": [
    {
     "name": "stdout",
     "output_type": "stream",
     "text": [
      "Doll: Tweety\n",
      "Total Price: 2500 taka\n",
      "Thank you!\n",
      "=========================\n",
      "Doll: Daffy Duck\n",
      "Total Price: 1800 taka\n",
      "Thank you!\n",
      "=========================\n",
      "Doll: Bugs Bunny\n",
      "Total Price: 3000 taka\n",
      "Congratulations! You get the Tweety as a gift!\n",
      "=========================\n",
      "Doll: Porky Pig\n",
      "Total Price: 1500 taka\n",
      "Thank you!\n",
      "=========================\n",
      "Doll: Daffy Duck Bugs Bunny\n",
      "Total Price: 4800 taka\n",
      "Congratulations! You get the Tweety as a gift!\n"
     ]
    }
   ],
   "source": [
    "#Task7\n",
    "\n",
    "class Dolls:\n",
    "    def __init__(self,name,price):\n",
    "        self.name, self.price = name, price\n",
    "    def __add__(self,obj1):\n",
    "        return Dolls(self.name +\" \" + obj1.name,self.price + obj1.price)\n",
    "    def __gt__(self,obj1):\n",
    "        if self.price > obj1.price:\n",
    "            return True\n",
    "        return False\n",
    "    def detail(self):\n",
    "        return f\"Doll: {self.name}\\nTotal Price: {self.price} taka\"\n",
    "        \n",
    "obj_1 = Dolls(\"Tweety\", 2500)\n",
    "print(obj_1.detail())\n",
    "if obj_1 > obj_1:\n",
    "    print(\"Congratulations! You get the Tweety as a gift!\")\n",
    "else:\n",
    "    print(\"Thank you!\")\n",
    "\n",
    "print(\"=========================\")\n",
    "obj_2 = Dolls(\"Daffy Duck\", 1800) \n",
    "print(obj_2.detail())\n",
    "if obj_2 > obj_1:\n",
    "    print(\"Congratulations! You get the Tweety as a gift!\")\n",
    "else:\n",
    "    print(\"Thank you!\")\n",
    "\n",
    "print(\"=========================\")\n",
    "obj_3 = Dolls(\"Bugs Bunny\", 3000)\n",
    "print(obj_3.detail())\n",
    "if obj_3 > obj_1:\n",
    "    print(\"Congratulations! You get the Tweety as a gift!\")\n",
    "else:\n",
    "    print(\"Thank you!\")\n",
    "\n",
    "print(\"=========================\")\n",
    "obj_4 = Dolls(\"Porky Pig\", 1500)\n",
    "print(obj_4.detail())\n",
    "if obj_4 > obj_1:\n",
    "    print(\"Congratulations! You get the Tweety as a gift!\")\n",
    "else:\n",
    "    print(\"Thank you!\")\n",
    "\n",
    "print(\"=========================\")\n",
    "obj_5 = obj_2 + obj_3\n",
    "print(obj_5.detail())\n",
    "if obj_5 > obj_1:\n",
    "    print(\"Congratulations! You get the Tweety as a gift!\")\n",
    "else:\n",
    "    print(\"Thank you!\")"
   ]
  },
  {
   "cell_type": "code",
   "execution_count": 12,
   "metadata": {},
   "outputs": [
    {
     "name": "stdout",
     "output_type": "stream",
     "text": [
      "(-2,-2)\n",
      "(3,8)\n",
      "The calculated coordinates are NOT the same.\n"
     ]
    }
   ],
   "source": [
    "#Task8\n",
    "\n",
    "class Coordinates:\n",
    "    def __init__(self,x,y):\n",
    "        self.x, self.y = x,y\n",
    "    def __sub__(self,obj1):\n",
    "        return Coordinates(self.x - obj1.x,self.y - obj1.y)\n",
    "    def __mul__(self,obj1):\n",
    "        return Coordinates(self.x * obj1.x,self.y * obj1.y)\n",
    "    def __eq__(self,obj1):\n",
    "        flag = True\n",
    "        if self.x != obj1.x or self.y != obj1.y:\n",
    "            flag = False\n",
    "        if flag == False:\n",
    "            return \"The calculated coordinates are NOT the same.\"\n",
    "        else:\n",
    "            return \"The calculated coordinates are the same.\"\n",
    "    def detail(self):\n",
    "        return f\"({self.x},{self.y})\"\n",
    "p1 = Coordinates(int(input()),int(input()))\n",
    "p2 = Coordinates(int(input()),int(input()))\n",
    "\n",
    "p4 = p1 - p2 \n",
    "print(p4.detail())\n",
    "\n",
    "p5 = p1 * p2\n",
    "print(p5.detail())\n",
    "\n",
    "point_check = (p4 == p5)\n",
    "print(point_check)"
   ]
  }
 ],
 "metadata": {
  "kernelspec": {
   "display_name": "Python 3.10.5 64-bit",
   "language": "python",
   "name": "python3"
  },
  "language_info": {
   "codemirror_mode": {
    "name": "ipython",
    "version": 3
   },
   "file_extension": ".py",
   "mimetype": "text/x-python",
   "name": "python",
   "nbconvert_exporter": "python",
   "pygments_lexer": "ipython3",
   "version": "3.10.5"
  },
  "orig_nbformat": 4,
  "vscode": {
   "interpreter": {
    "hash": "18c7192e6171d4d6c625c2d9481f295daeef27a536cb9f371eb8bc23c4bce28d"
   }
  }
 },
 "nbformat": 4,
 "nbformat_minor": 2
}
